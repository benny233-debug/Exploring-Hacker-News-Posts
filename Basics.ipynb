{
 "cells": [
  {
   "cell_type": "markdown",
   "metadata": {
    "collapsed": true
   },
   "source": [
    "# Analytics of submissions to popular technology site Hacker News\n",
    "\n",
    "In this project, we're specifically interested in posts whose titles begin with either Ask HN or Show HN. \n",
    "\n",
    "* Users submit Ask HN posts to ask the Hacker News community a specific question.\n",
    "* Likewise, users submit Show HN posts to show the Hacker News community a project, product, or just generally something interesting.\n",
    "\n",
    "We'll compare these two types of posts to determine the following:\n",
    "\n",
    "1. Do Ask HN or Show HN receive more comments on average?\n",
    "2. Do posts created at a certain time receive more comments on average?\n"
   ]
  },
  {
   "cell_type": "markdown",
   "metadata": {
    "collapsed": true
   },
   "source": [
    "___"
   ]
  },
  {
   "cell_type": "markdown",
   "metadata": {},
   "source": [
    "#### We begin by importing the libraries needed and reading the data set into a list of lists."
   ]
  },
  {
   "cell_type": "code",
   "execution_count": 1,
   "metadata": {
    "collapsed": false
   },
   "outputs": [
    {
     "name": "stdout",
     "output_type": "stream",
     "text": [
      "['id', 'title', 'url', 'num_points', 'num_comments', 'author', 'created_at']\n",
      "\n",
      "\n",
      "[['12224879', 'Interactive Dynamic Video', 'http://www.interactivedynamicvideo.com/', '386', '52', 'ne0phyte', '8/4/2016 11:52'], ['10975351', 'How to Use Open Source and Shut the Fuck Up at the Same Time', 'http://hueniverse.com/2016/01/26/how-to-use-open-source-and-shut-the-fuck-up-at-the-same-time/', '39', '10', 'josep2', '1/26/2016 19:30'], ['11964716', \"Florida DJs May Face Felony for April Fools' Water Joke\", 'http://www.thewire.com/entertainment/2013/04/florida-djs-april-fools-water-joke/63798/', '2', '1', 'vezycash', '6/23/2016 22:20'], ['11919867', 'Technology ventures: From Idea to Enterprise', 'https://www.amazon.com/Technology-Ventures-Enterprise-Thomas-Byers/dp/0073523429', '3', '1', 'hswarna', '6/17/2016 0:01'], ['10301696', 'Note by Note: The Making of Steinway L1037 (2007)', 'http://www.nytimes.com/2007/11/07/movies/07stein.html?_r=0', '8', '2', 'walterbell', '9/30/2015 4:12']]\n"
     ]
    }
   ],
   "source": [
    "from csv import reader\n",
    "\n",
    "opened_file = open(\"hacker_news.csv\")\n",
    "read_file = reader(opened_file)\n",
    "hn = list(read_file)\n",
    "headers = hn[0]\n",
    "hn = hn[1:]\n",
    "\n",
    "print(headers)\n",
    "print('\\n')\n",
    "print(hn[:5])"
   ]
  },
  {
   "cell_type": "markdown",
   "metadata": {},
   "source": [
    "Now that we've removed **the headers from hn, we're ready to filter our data**. \n",
    "\n",
    "Since we're only concerned with post titles beginning with Ask HN or Show HN, we'll create new lists of lists containing just the data for those titles.\n",
    "\n",
    "To do this, \n",
    "1. we use the \"str\".startswith('str')\n",
    "2. to check for cases we use \"str\".lower() method\n"
   ]
  },
  {
   "cell_type": "code",
   "execution_count": 2,
   "metadata": {
    "collapsed": false
   },
   "outputs": [
    {
     "name": "stdout",
     "output_type": "stream",
     "text": [
      "1744\n",
      "1162\n",
      "17194\n"
     ]
    }
   ],
   "source": [
    "ask_posts = []\n",
    "show_posts = []\n",
    "other_posts = []\n",
    "\n",
    "for row in hn:\n",
    "    title = row[1]\n",
    "    \n",
    "    if title.lower().startswith('ask hn'):\n",
    "        ask_posts.append(row)\n",
    "    elif title.lower().startswith('show hn'):\n",
    "        show_posts.append(row)\n",
    "    else:\n",
    "        other_posts.append(row)\n",
    "            \n",
    "print(len(ask_posts))\n",
    "print(len(show_posts))\n",
    "print(len(other_posts))"
   ]
  },
  {
   "cell_type": "markdown",
   "metadata": {},
   "source": [
    "##### Filtering data into **Three** main groups\n",
    "\n",
    "1. Ask HN posts = 1744\n",
    "2. Show HN posts = 1162\n",
    "3. Other posts = 17194"
   ]
  },
  {
   "cell_type": "markdown",
   "metadata": {
    "collapsed": true
   },
   "source": [
    "Below are the first five rows in the ask_posts list of lists:"
   ]
  },
  {
   "cell_type": "code",
   "execution_count": 3,
   "metadata": {
    "collapsed": false
   },
   "outputs": [
    {
     "name": "stdout",
     "output_type": "stream",
     "text": [
      "[['12296411', 'Ask HN: How to improve my personal website?', '', '2', '6', 'ahmedbaracat', '8/16/2016 9:55'], ['10610020', 'Ask HN: Am I the only one outraged by Twitter shutting down share counts?', '', '28', '29', 'tkfx', '11/22/2015 13:43'], ['11610310', 'Ask HN: Aby recent changes to CSS that broke mobile?', '', '1', '1', 'polskibus', '5/2/2016 10:14'], ['12210105', 'Ask HN: Looking for Employee #3 How do I do it?', '', '1', '3', 'sph130', '8/2/2016 14:20'], ['10394168', 'Ask HN: Someone offered to buy my browser extension from me. What now?', '', '28', '17', 'roykolak', '10/15/2015 16:38']]\n"
     ]
    }
   ],
   "source": [
    "print(ask_posts[:5])"
   ]
  },
  {
   "cell_type": "markdown",
   "metadata": {},
   "source": [
    "Below are the first five rows in the show_posts list of lists:"
   ]
  },
  {
   "cell_type": "code",
   "execution_count": 4,
   "metadata": {
    "collapsed": false
   },
   "outputs": [
    {
     "name": "stdout",
     "output_type": "stream",
     "text": [
      "[['10627194', 'Show HN: Wio Link  ESP8266 Based Web of Things Hardware Development Platform', 'https://iot.seeed.cc', '26', '22', 'kfihihc', '11/25/2015 14:03'], ['10646440', 'Show HN: Something pointless I made', 'http://dn.ht/picklecat/', '747', '102', 'dhotson', '11/29/2015 22:46'], ['11590768', 'Show HN: Shanhu.io, a programming playground powered by e8vm', 'https://shanhu.io', '1', '1', 'h8liu', '4/28/2016 18:05'], ['12178806', 'Show HN: Webscope  Easy way for web developers to communicate with Clients', 'http://webscopeapp.com', '3', '3', 'fastbrick', '7/28/2016 7:11'], ['10872799', 'Show HN: GeoScreenshot  Easily test Geo-IP based web pages', 'https://www.geoscreenshot.com/', '1', '9', 'kpsychwave', '1/9/2016 20:45']]\n"
     ]
    }
   ],
   "source": [
    "print(show_posts[:5])"
   ]
  },
  {
   "cell_type": "markdown",
   "metadata": {},
   "source": [
    "Below are the first five rows in the other_posts list of lists:"
   ]
  },
  {
   "cell_type": "code",
   "execution_count": 5,
   "metadata": {
    "collapsed": false
   },
   "outputs": [
    {
     "name": "stdout",
     "output_type": "stream",
     "text": [
      "[['12224879', 'Interactive Dynamic Video', 'http://www.interactivedynamicvideo.com/', '386', '52', 'ne0phyte', '8/4/2016 11:52'], ['10975351', 'How to Use Open Source and Shut the Fuck Up at the Same Time', 'http://hueniverse.com/2016/01/26/how-to-use-open-source-and-shut-the-fuck-up-at-the-same-time/', '39', '10', 'josep2', '1/26/2016 19:30'], ['11964716', \"Florida DJs May Face Felony for April Fools' Water Joke\", 'http://www.thewire.com/entertainment/2013/04/florida-djs-april-fools-water-joke/63798/', '2', '1', 'vezycash', '6/23/2016 22:20'], ['11919867', 'Technology ventures: From Idea to Enterprise', 'https://www.amazon.com/Technology-Ventures-Enterprise-Thomas-Byers/dp/0073523429', '3', '1', 'hswarna', '6/17/2016 0:01'], ['10301696', 'Note by Note: The Making of Steinway L1037 (2007)', 'http://www.nytimes.com/2007/11/07/movies/07stein.html?_r=0', '8', '2', 'walterbell', '9/30/2015 4:12']]\n"
     ]
    }
   ],
   "source": [
    "print(other_posts[:5])"
   ]
  },
  {
   "cell_type": "markdown",
   "metadata": {},
   "source": [
    "#### Next, let's determine if ask posts or show posts receive more comments on average."
   ]
  },
  {
   "cell_type": "code",
   "execution_count": 6,
   "metadata": {
    "collapsed": false
   },
   "outputs": [
    {
     "data": {
      "text/plain": [
       "'The average number of comments from the ask posts: 14.038417431192661'"
      ]
     },
     "execution_count": 6,
     "metadata": {},
     "output_type": "execute_result"
    }
   ],
   "source": [
    "# find the average number of commments \n",
    "# in the ask posts\n",
    "\n",
    "total_ask_comments = 0\n",
    "\n",
    "for row in ask_posts:\n",
    "    num_comments = row[4]\n",
    "    num_comments = int(num_comments)\n",
    "    total_ask_comments += num_comments\n",
    "\n",
    "# computing average number of comments\n",
    "avg_ask_comments = total_ask_comments / len(ask_posts)\n",
    "\n",
    "string = 'The average number of comments from the ask posts: {}'\n",
    "string.format (avg_ask_comments)"
   ]
  },
  {
   "cell_type": "code",
   "execution_count": 7,
   "metadata": {
    "collapsed": false
   },
   "outputs": [
    {
     "data": {
      "text/plain": [
       "'The average number of comments from the show posts: 10.31669535283993'"
      ]
     },
     "execution_count": 7,
     "metadata": {},
     "output_type": "execute_result"
    }
   ],
   "source": [
    "# Finding the average number of comments \n",
    "# from the show posts\n",
    "\n",
    "total_show_comments = 0\n",
    "\n",
    "for row in show_posts:\n",
    "    num_comments = row[4]\n",
    "    num_comments = int(num_comments)\n",
    "    total_show_comments += num_comments\n",
    "    \n",
    "# computing averagenumber of comments\n",
    "avg_show_comments = total_show_comments / len(show_posts)\n",
    "\n",
    "string_1 = 'The average number of comments from the show posts: {}'\n",
    "string_1.format (avg_show_comments)"
   ]
  },
  {
   "cell_type": "markdown",
   "metadata": {},
   "source": [
    "* The Average number of comments received from ask posts is **14.038417431192661 whiles that of the show posts is 10.31669535283993.**\n",
    "\n",
    "* Thus it is determined from the data that Ask posts receive more comments than show posts. \n",
    "\n",
    "* This can be attributed to the fact that many users tend to post answers to questions asked on the platform as compared to commenting on other posts"
   ]
  },
  {
   "cell_type": "markdown",
   "metadata": {},
   "source": [
    "Next, we'll determine if ask posts created at a certain time are more likely to attract comments. We'll use the following steps to perform this analysis:\n",
    "\n",
    "1. Calculate the amount of ask posts created in each hour of the day, along with the number of comments received.\n",
    "\n",
    "2. Calculate the average number of comments ask posts receive by hour created."
   ]
  },
  {
   "cell_type": "code",
   "execution_count": 8,
   "metadata": {
    "collapsed": false
   },
   "outputs": [
    {
     "name": "stdout",
     "output_type": "stream",
     "text": [
      "[['8/16/2016 9:55', 6], ['11/22/2015 13:43', 29], ['5/2/2016 10:14', 1], ['8/2/2016 14:20', 3], ['10/15/2015 16:38', 17]]\n"
     ]
    }
   ],
   "source": [
    "# importing the datetime module as dt\n",
    "# date format = %m/%d/%Y %H:%M\n",
    "\n",
    "import datetime as dt\n",
    "\n",
    "result_list = []\n",
    "\n",
    "for row in ask_posts:\n",
    "    created_at = row[6]\n",
    "    num_comments = row[4]\n",
    "    num_comments = int(num_comments)\n",
    "    result_list.append([created_at, num_comments])\n",
    "    \n",
    "print(result_list[:5])\n",
    "    "
   ]
  },
  {
   "cell_type": "code",
   "execution_count": 9,
   "metadata": {
    "collapsed": false
   },
   "outputs": [],
   "source": [
    "# calculating the number of posts per hour created \n",
    "# and comments per hour created\n",
    "\n",
    "counts_by_hour = {}\n",
    "comments_by_hour = {}\n",
    "\n",
    "for pair in result_list:\n",
    "    date = pair[0]\n",
    "    date = dt.datetime.strptime(date, '%m/%d/%Y %H:%M')\n",
    "    hour = dt.datetime.strftime(date, \"%H\")\n",
    "    comments = pair[1]\n",
    "    \n",
    "    if hour not in counts_by_hour:\n",
    "        counts_by_hour[hour] = 1\n",
    "        comments_by_hour[hour] = comments\n",
    "        \n",
    "    else:\n",
    "        counts_by_hour[hour] += 1\n",
    "        comments_by_hour[hour] += comments\n",
    "    \n",
    "        \n"
   ]
  },
  {
   "cell_type": "code",
   "execution_count": 10,
   "metadata": {
    "collapsed": false
   },
   "outputs": [
    {
     "name": "stdout",
     "output_type": "stream",
     "text": [
      "{'02': 58, '03': 54, '11': 58, '04': 47, '17': 100, '08': 48, '10': 59, '01': 60, '20': 80, '18': 109, '16': 108, '13': 85, '12': 73, '23': 68, '07': 34, '15': 116, '00': 55, '05': 46, '21': 109, '19': 110, '14': 107, '22': 71, '09': 45, '06': 44}\n"
     ]
    }
   ],
   "source": [
    "print(counts_by_hour)"
   ]
  },
  {
   "cell_type": "code",
   "execution_count": 11,
   "metadata": {
    "collapsed": false
   },
   "outputs": [
    {
     "name": "stdout",
     "output_type": "stream",
     "text": [
      "{'02': 1381, '03': 421, '11': 641, '04': 337, '17': 1146, '08': 492, '10': 793, '01': 683, '20': 1722, '18': 1439, '16': 1814, '13': 1253, '12': 687, '23': 543, '07': 267, '15': 4477, '00': 447, '05': 464, '21': 1745, '19': 1188, '14': 1416, '22': 479, '09': 251, '06': 397}\n"
     ]
    }
   ],
   "source": [
    "print(comments_by_hour)"
   ]
  },
  {
   "cell_type": "markdown",
   "metadata": {},
   "source": [
    "Next, we'll use these two dictionaries to calculate the average number of comments for posts created during each hour of the day."
   ]
  },
  {
   "cell_type": "code",
   "execution_count": 12,
   "metadata": {
    "collapsed": false
   },
   "outputs": [
    {
     "data": {
      "text/plain": [
       "[['02', 23.810344827586206],\n",
       " ['03', 7.796296296296297],\n",
       " ['11', 11.051724137931034],\n",
       " ['04', 7.170212765957447],\n",
       " ['17', 11.46],\n",
       " ['08', 10.25],\n",
       " ['10', 13.440677966101696],\n",
       " ['01', 11.383333333333333],\n",
       " ['20', 21.525],\n",
       " ['18', 13.20183486238532],\n",
       " ['16', 16.796296296296298],\n",
       " ['13', 14.741176470588234],\n",
       " ['12', 9.41095890410959],\n",
       " ['23', 7.985294117647059],\n",
       " ['07', 7.852941176470588],\n",
       " ['15', 38.5948275862069],\n",
       " ['00', 8.127272727272727],\n",
       " ['05', 10.08695652173913],\n",
       " ['21', 16.009174311926607],\n",
       " ['19', 10.8],\n",
       " ['14', 13.233644859813085],\n",
       " ['22', 6.746478873239437],\n",
       " ['09', 5.5777777777777775],\n",
       " ['06', 9.022727272727273]]"
      ]
     },
     "execution_count": 12,
     "metadata": {},
     "output_type": "execute_result"
    }
   ],
   "source": [
    "avg_by_hour = []\n",
    "\n",
    "for hour in comments_by_hour:\n",
    "    avg_by_hour.append([hour, comments_by_hour[hour] / counts_by_hour[hour]])\n",
    "\n",
    "avg_by_hour"
   ]
  },
  {
   "cell_type": "markdown",
   "metadata": {
    "collapsed": true
   },
   "source": [
    "Although we now have the results we need, this format makes it hard to identify the hours with the highest values. \n",
    "\n",
    "Let's finish by sorting the list of lists and printing the five highest values in a format that's easier to read."
   ]
  },
  {
   "cell_type": "code",
   "execution_count": 13,
   "metadata": {
    "collapsed": false
   },
   "outputs": [
    {
     "data": {
      "text/plain": [
       "[[23.810344827586206, '02'],\n",
       " [7.796296296296297, '03'],\n",
       " [11.051724137931034, '11'],\n",
       " [7.170212765957447, '04'],\n",
       " [11.46, '17'],\n",
       " [10.25, '08'],\n",
       " [13.440677966101696, '10'],\n",
       " [11.383333333333333, '01'],\n",
       " [21.525, '20'],\n",
       " [13.20183486238532, '18'],\n",
       " [16.796296296296298, '16'],\n",
       " [14.741176470588234, '13'],\n",
       " [9.41095890410959, '12'],\n",
       " [7.985294117647059, '23'],\n",
       " [7.852941176470588, '07'],\n",
       " [38.5948275862069, '15'],\n",
       " [8.127272727272727, '00'],\n",
       " [10.08695652173913, '05'],\n",
       " [16.009174311926607, '21'],\n",
       " [10.8, '19'],\n",
       " [13.233644859813085, '14'],\n",
       " [6.746478873239437, '22'],\n",
       " [5.5777777777777775, '09'],\n",
       " [9.022727272727273, '06']]"
      ]
     },
     "execution_count": 13,
     "metadata": {},
     "output_type": "execute_result"
    }
   ],
   "source": [
    "# Create a list that equals avg_by_hour with swapped columns.\n",
    "\n",
    "swap_avg_by_hour = []\n",
    "\n",
    "for rows in avg_by_hour:\n",
    "    hour = rows[0]\n",
    "    avg = rows[1]\n",
    "    swap_avg_by_hour.append([avg, hour])\n",
    "\n",
    "swap_avg_by_hour"
   ]
  },
  {
   "cell_type": "markdown",
   "metadata": {},
   "source": [
    "The `sorted()` function is used to sort **swap_avg_by_hour** in descending order. \n",
    "\n",
    "Since the first column of this list is the average number of comments, sorting the list will sort by the average number of comments."
   ]
  },
  {
   "cell_type": "code",
   "execution_count": 14,
   "metadata": {
    "collapsed": false
   },
   "outputs": [
    {
     "data": {
      "text/plain": [
       "[[38.5948275862069, '15'],\n",
       " [23.810344827586206, '02'],\n",
       " [21.525, '20'],\n",
       " [16.796296296296298, '16'],\n",
       " [16.009174311926607, '21'],\n",
       " [14.741176470588234, '13'],\n",
       " [13.440677966101696, '10'],\n",
       " [13.233644859813085, '14'],\n",
       " [13.20183486238532, '18'],\n",
       " [11.46, '17'],\n",
       " [11.383333333333333, '01'],\n",
       " [11.051724137931034, '11'],\n",
       " [10.8, '19'],\n",
       " [10.25, '08'],\n",
       " [10.08695652173913, '05'],\n",
       " [9.41095890410959, '12'],\n",
       " [9.022727272727273, '06'],\n",
       " [8.127272727272727, '00'],\n",
       " [7.985294117647059, '23'],\n",
       " [7.852941176470588, '07'],\n",
       " [7.796296296296297, '03'],\n",
       " [7.170212765957447, '04'],\n",
       " [6.746478873239437, '22'],\n",
       " [5.5777777777777775, '09']]"
      ]
     },
     "execution_count": 14,
     "metadata": {},
     "output_type": "execute_result"
    }
   ],
   "source": [
    "sorted_swap = sorted(swap_avg_by_hour, reverse = True)\n",
    "\n",
    "sorted_swap"
   ]
  },
  {
   "cell_type": "markdown",
   "metadata": {},
   "source": [
    "#### Top 5 Hours for Ask Posts Comments"
   ]
  },
  {
   "cell_type": "code",
   "execution_count": 15,
   "metadata": {
    "collapsed": false
   },
   "outputs": [
    {
     "name": "stdout",
     "output_type": "stream",
     "text": [
      "15:00:  38.59 average comments per post\n",
      "02:00:  23.81 average comments per post\n",
      "20:00:  21.52 average comments per post\n",
      "16:00:  16.80 average comments per post\n",
      "21:00:  16.01 average comments per post\n",
      "13:00:  14.74 average comments per post\n",
      "10:00:  13.44 average comments per post\n",
      "14:00:  13.23 average comments per post\n",
      "18:00:  13.20 average comments per post\n",
      "17:00:  11.46 average comments per post\n",
      "01:00:  11.38 average comments per post\n",
      "11:00:  11.05 average comments per post\n",
      "19:00:  10.80 average comments per post\n",
      "08:00:  10.25 average comments per post\n",
      "05:00:  10.09 average comments per post\n",
      "12:00:  9.41 average comments per post\n",
      "06:00:  9.02 average comments per post\n",
      "00:00:  8.13 average comments per post\n",
      "23:00:  7.99 average comments per post\n",
      "07:00:  7.85 average comments per post\n",
      "03:00:  7.80 average comments per post\n",
      "04:00:  7.17 average comments per post\n",
      "22:00:  6.75 average comments per post\n",
      "09:00:  5.58 average comments per post\n"
     ]
    }
   ],
   "source": [
    "for row in sorted_swap:\n",
    "    hours = row[-1]\n",
    "    hours = dt.datetime.strptime(hours, \"%H\")\n",
    "    hours = dt.datetime.strftime(hours, \"%H:%M\")\n",
    "    avg_posts = row[0]\n",
    "    \n",
    "    string_out = \"{time}: {avg_num: .2f} average comments per post\"\n",
    "    output = string_out.format(time=hours,avg_num = avg_posts )\n",
    "    print(output)"
   ]
  },
  {
   "cell_type": "markdown",
   "metadata": {},
   "source": [
    "** Top 5 Hours for Ask Posts Comments **\n",
    "1. 15:00 38.59 average comments per post\n",
    "2. 02:00 23.81 average comments per post\n",
    "3. 20:00 21.52 average comments per post\n",
    "4. 16:00 16.80 average comments per post\n",
    "5. 21:00 16.01 average comments per post\n"
   ]
  },
  {
   "cell_type": "markdown",
   "metadata": {},
   "source": [
    "Thus the answer to the question:\n",
    "\n",
    ">Which hours should you create a post during to have a higher chance of receiving comments?\n",
    "\n",
    "The best time to create a post that would be most likely to receive more comments is at ** 15:00 (the time zone is Eastern Time in the US).**  An average of 38.59 comments per post is expected.\n",
    "\n",
    "There's about a **60% increase** in the number of comments between the hours with the highest and second highest average number of comments."
   ]
  },
  {
   "cell_type": "markdown",
   "metadata": {},
   "source": [
    "Inorder to better use this information, we need to convert the time to GMT (Greenwich Mean Time). **Eastern Daylight Time is 4 hours behind of Greenwich Mean Time**\n"
   ]
  },
  {
   "cell_type": "code",
   "execution_count": 16,
   "metadata": {
    "collapsed": false,
    "scrolled": true
   },
   "outputs": [
    {
     "data": {
      "text/plain": [
       "[['19:00', 38.5948275862069],\n",
       " ['06:00', 23.810344827586206],\n",
       " ['00:00', 21.525],\n",
       " ['20:00', 16.796296296296298],\n",
       " ['01:00', 16.009174311926607],\n",
       " ['17:00', 14.741176470588234],\n",
       " ['14:00', 13.440677966101696],\n",
       " ['18:00', 13.233644859813085],\n",
       " ['22:00', 13.20183486238532],\n",
       " ['21:00', 11.46],\n",
       " ['05:00', 11.383333333333333],\n",
       " ['15:00', 11.051724137931034],\n",
       " ['23:00', 10.8],\n",
       " ['12:00', 10.25],\n",
       " ['09:00', 10.08695652173913],\n",
       " ['16:00', 9.41095890410959],\n",
       " ['10:00', 9.022727272727273],\n",
       " ['04:00', 8.127272727272727],\n",
       " ['03:00', 7.985294117647059],\n",
       " ['11:00', 7.852941176470588],\n",
       " ['07:00', 7.796296296296297],\n",
       " ['08:00', 7.170212765957447],\n",
       " ['02:00', 6.746478873239437],\n",
       " ['13:00', 5.5777777777777775]]"
      ]
     },
     "execution_count": 16,
     "metadata": {},
     "output_type": "execute_result"
    }
   ],
   "source": [
    "gmt_time_sorted = []\n",
    "add_time = dt.timedelta(hours=4)\n",
    "\n",
    "for row in sorted_swap:\n",
    "    time = row[-1]\n",
    "    time = dt.datetime.strptime(time, \"%H\")\n",
    "    gmt_time = time + add_time\n",
    "    gmt_time = dt.datetime.strftime(gmt_time, \"%H:%M\")\n",
    "    avg_comm = row[0]\n",
    "    gmt_time_sorted.append([gmt_time, avg_comm])\n",
    "    \n",
    "gmt_time_sorted"
   ]
  },
  {
   "cell_type": "markdown",
   "metadata": {},
   "source": [
    "** Top 5 Hours for Ask Posts Comments at Greenwich Mean Time **"
   ]
  },
  {
   "cell_type": "code",
   "execution_count": 17,
   "metadata": {
    "collapsed": false
   },
   "outputs": [
    {
     "name": "stdout",
     "output_type": "stream",
     "text": [
      "19:00 38.59 average comments per post\n",
      "06:00 23.81 average comments per post\n",
      "00:00 21.52 average comments per post\n",
      "20:00 16.80 average comments per post\n",
      "01:00 16.01 average comments per post\n"
     ]
    }
   ],
   "source": [
    "for row in gmt_time_sorted[:5]:\n",
    "    gmt = row[0] \n",
    "    gmt = dt.datetime.strptime(gmt,\"%H:%M\")\n",
    "    gmt = dt.datetime.strftime(gmt, \"%H:%M\")\n",
    "    avg_comm = row[1]\n",
    "    string_3 = \"{} {:.2f} average comments per post\"\n",
    "    output_1 = string_3.format(gmt, avg_comm)\n",
    "    print(output_1)"
   ]
  },
  {
   "cell_type": "markdown",
   "metadata": {},
   "source": [
    "### Findings \n",
    "\n",
    "1. The hour that receives the most comments per post on average is **19:00 GMT**, with an average of **38.59** comments per post. There's about a **60% increase** in the number of comments between the hours with the highest and second highest average number of comments. "
   ]
  },
  {
   "cell_type": "markdown",
   "metadata": {},
   "source": [
    "Next, we'll determine if show or ask posts receive more points on average. We'll use the following steps to perform this analysis:\n",
    "\n",
    "1. Suming the number of points for the show posts and ask posts seperately. \n",
    "2. Average the points for both categories"
   ]
  },
  {
   "cell_type": "code",
   "execution_count": 18,
   "metadata": {
    "collapsed": false
   },
   "outputs": [
    {
     "name": "stdout",
     "output_type": "stream",
     "text": [
      "32019\n",
      "27.555077452667813\n"
     ]
    }
   ],
   "source": [
    "# Summing and calculating average for show posts\n",
    "\n",
    "show_post_points = 0\n",
    "\n",
    "for row in show_posts:\n",
    "    show_points = int(row[3])\n",
    "    show_post_points += show_points\n",
    "    \n",
    "avg_show_post_points = show_post_points / len(show_posts)\n",
    "\n",
    "print(show_post_points)\n",
    "print(avg_show_post_points)"
   ]
  },
  {
   "cell_type": "code",
   "execution_count": 19,
   "metadata": {
    "collapsed": false
   },
   "outputs": [
    {
     "name": "stdout",
     "output_type": "stream",
     "text": [
      "26268\n",
      "15.061926605504587\n"
     ]
    }
   ],
   "source": [
    "# Summing and calculating average for ask posts\n",
    "\n",
    "ask_post_points = 0\n",
    "\n",
    "for row in ask_posts:\n",
    "    ask_points = int(row[3])\n",
    "    ask_post_points += ask_points\n",
    "    \n",
    "avg_ask_post_points = ask_post_points / len(ask_posts)\n",
    "\n",
    "print(ask_post_points)\n",
    "print(avg_ask_post_points)"
   ]
  },
  {
   "cell_type": "markdown",
   "metadata": {},
   "source": [
    "From the data, the it has been determined that:\n",
    "\n",
    "1.  Show posts have **32,019** points whereas ask posts received **26,268** points. Thus show posts received more points than ask posts\n",
    "\n",
    "2. Show posts received more points on average as compared to ask posts. Show posts averaged **27.55** points as compared to ask posts lower average of **15.06**"
   ]
  },
  {
   "cell_type": "markdown",
   "metadata": {},
   "source": [
    "The next step is to compare the results of the average number of comments and points other posts receive to the show posts and ask posts."
   ]
  },
  {
   "cell_type": "code",
   "execution_count": 20,
   "metadata": {
    "collapsed": false
   },
   "outputs": [
    {
     "name": "stdout",
     "output_type": "stream",
     "text": [
      "952664\n",
      "55.4067698034198\n"
     ]
    }
   ],
   "source": [
    "# Summing and calculating average points for other posts\n",
    "\n",
    "other_post_points = 0\n",
    "\n",
    "for row in other_posts:\n",
    "    other_points = int(row[3])\n",
    "    other_post_points += other_points\n",
    "    \n",
    "avg_other_post_points = other_post_points / len(other_posts)\n",
    "\n",
    "print(other_post_points)\n",
    "print(avg_other_post_points)"
   ]
  },
  {
   "cell_type": "markdown",
   "metadata": {},
   "source": [
    "The other posts on the website received more (**952,664**) points than the ask and show posts combined. It also had a higher average number of points (**55.41**) than both categories."
   ]
  },
  {
   "cell_type": "code",
   "execution_count": 21,
   "metadata": {
    "collapsed": false
   },
   "outputs": [
    {
     "name": "stdout",
     "output_type": "stream",
     "text": [
      "462055\n",
      "26.8730371059672\n"
     ]
    }
   ],
   "source": [
    "# Summing and calculating average comments for other posts\n",
    "\n",
    "other_post_comments = 0\n",
    "\n",
    "for row in other_posts:\n",
    "    other_comments = int(row[4])\n",
    "    other_post_comments += other_comments\n",
    "    \n",
    "avg_other_post_comments = other_post_comments / len(other_posts)\n",
    "\n",
    "print(other_post_comments)\n",
    "print(avg_other_post_comments)"
   ]
  },
  {
   "cell_type": "markdown",
   "metadata": {},
   "source": [
    "It has been determined fro the data that: \n",
    "\n",
    "1. The other posts category received **462,055** comments for **17,194** posts. \n",
    "\n",
    "2. The other category received an average of **26.87** comments per post which is more than the **14.03** and **10.32** average number of comments recived by the ask post and show post respectively. "
   ]
  },
  {
   "cell_type": "markdown",
   "metadata": {},
   "source": [
    "## Conclusion\n",
    "\n",
    "1. It was determined that the hour that receives the most comments per post on average is **19:00 GMT**, with an average of **38.59** comments per post.\n",
    "\n",
    "2. It was also determined that the ask post received more comments than the show posts and also had a higher average number of comments per post. **14.03** for ask posts as compared to **10.32** for show posts\n",
    "\n",
    "3. The show posts have more points than ask posts. The show posts got **32,019** points whereas ask posts received **26,268 points**. Thus show posts received more points than ask posts\n",
    "\n",
    "4. Show posts received more points on average as compared to ask posts. Show posts averaged **27.55** points as compared to ask posts lower average of **15.06**\n",
    "\n",
    "5. The other posts category received **462,055** comments for **17,194** posts. \n",
    "\n",
    "6. The other category received an average of **26.87** comments per post which is more than the **14.03** and **10.32** average number of comments recived by the ask post and show post respectively. \n"
   ]
  },
  {
   "cell_type": "code",
   "execution_count": null,
   "metadata": {
    "collapsed": true
   },
   "outputs": [],
   "source": []
  }
 ],
 "metadata": {
  "kernelspec": {
   "display_name": "Python 3",
   "language": "python",
   "name": "python3"
  },
  "language_info": {
   "codemirror_mode": {
    "name": "ipython",
    "version": 3
   },
   "file_extension": ".py",
   "mimetype": "text/x-python",
   "name": "python",
   "nbconvert_exporter": "python",
   "pygments_lexer": "ipython3",
   "version": "3.4.3"
  }
 },
 "nbformat": 4,
 "nbformat_minor": 2
}
